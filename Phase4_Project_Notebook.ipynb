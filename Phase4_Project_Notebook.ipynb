{
 "cells": [
  {
   "cell_type": "markdown",
   "metadata": {},
   "source": [
    "# AI-Driven Detection of Loan Stacking Behavior in Kenya’s Digital Lending Ecosystem"
   ]
  },
  {
   "cell_type": "markdown",
   "metadata": {},
   "source": [
    "Group Members:\n",
    "1. Naomi Ngigi\n",
    "2. Elvis Kiprono\n",
    "3. Godwine Wasonga\n",
    "4. Janine Makorre\n",
    "5. Trevor Maina\n",
    "6. Caroline Wachira\n",
    "\n",
    "DSF 12 FT Remote \n",
    "\n",
    "July 2025"
   ]
  },
  {
   "cell_type": "markdown",
   "metadata": {
    "vscode": {
     "languageId": "plaintext"
    }
   },
   "source": [
    "## Introduction\n",
    "\n",
    "Access to traditional banking in Kenya was once limited, but the launch of M-Pesa in 2007 transformed financial inclusion by enabling mobile money services across the country. Building on this, digital lending apps like Tala, Branch, and M-Shwari have made short-term, collateral-free loans widely accessible.\n",
    "\n",
    "But with this convenience comes new risks. One growing concern is loan stacking, where borrowers take multiple loans across different platforms at the same time. As Collins Munyendo (2022) notes, this behavior often creates a cycle of debt, with borrowers taking on new loans just to repay existing ones—at high interest rates that can exceed 30% monthly.\n",
    "\n",
    "Since most lenders operate without shared data, they lack visibility into borrowers’ full credit behavior. To solve this, our project introduces an AI-driven loan stacking detection model, trained on behavioral signals and delivered through a real-time API. The system is designed to help digital lenders make more informed decisions and promote safer, more sustainable lending practices."
   ]
  },
  {
   "cell_type": "markdown",
   "metadata": {},
   "source": [
    "## Problem Statement\n",
    "\n",
    "While mobile lending apps have made credit more accessible in Kenya, they have also created a hidden risk: borrowers taking out multiple loans across different platforms without oversight. This loan stacking behavior often results in users relying on new loans to repay old ones, pushing them into unsustainable debt cycles.\n",
    "\n",
    "Digital lenders, operating in isolation, lack the tools to detect this behavior before issuing loans. The absence of real-time risk detection mechanisms makes it difficult to differentiate between reliable and high-risk borrowers—leading to increased default rates, operational losses, and regulatory concerns.\n",
    "\n",
    "There is a pressing need for a smart, data-driven system that can detect stacking patterns early and support responsible lending decisions."
   ]
  },
  {
   "cell_type": "markdown",
   "metadata": {},
   "source": [
    "## Objectives\n",
    "\n",
    "1. Can a neural network detect early signs of loan stacking using borrowing and repayment behavior?\n",
    "\n",
    "2. Which user behaviors best predict over-indebtedness or default?\n",
    "\n",
    "3. How does a real-time loan stacking API improve credit decisions and reduce risk?"
   ]
  },
  {
   "cell_type": "markdown",
   "metadata": {},
   "source": [
    "## Key Stakeholders\n",
    "\n",
    "1. Financial Institutions and Lenders - Use the system to reduce defaults, assess borrower risk, and improve portfolio quality\n",
    "\n",
    "2. Data Science & Risk Analytics teams - Build, train and monitor the neural network models ans risk scoring tools.\n",
    "\n",
    "3. Regulators & Policy makers - Ensure the solution aligns with lending regulations and protects consumers from predatory practices\n",
    "\n",
    "4. Borrowers(End User) - Benefit from fairer credit decisions and protection from over-indebtedness\n",
    "\n",
    "5. Fintech Developers & Platform Providers - Inegrate and maintain the real-time risk prediction API across lending platforms\n",
    "\n",
    "6. Business & Product Decision-Makers - Drive adoption, measure impact, and align the solition with strategic lending goals"
   ]
  },
  {
   "cell_type": "markdown",
   "metadata": {},
   "source": [
    "## Description of Dataset\n",
    "\n",
    "To build our model, we created a synthetic dataset that simulates real-world borrowing behavior in Kenya’s mobile lending ecosystem. Since access to actual user data is limited by privacy concerns, we generated realistic records—including loan amounts, repayment history, and cross-platform borrowing—to train and test our AI model safely and ethically.\n",
    "\n",
    "Features:\n",
    "+ user_id: Unique identifier for each borrower\n",
    "\n",
    "+ loan_amount: Amount borrowed (KES)\n",
    "\n",
    "+ repayment_days: Agreed repayment duration\n",
    "\n",
    "+ apps_installed: Number of known loan apps on the borrower’s device\n",
    "\n",
    "+ loans_last_30_days: Number of loans taken in the past month\n",
    "\n",
    "+ repayment_ratio: Portion of past loans successfully repaid\n",
    "\n",
    "+ previous_defaults: Count of previous loan defaults\n",
    "\n",
    "+ employment_status: Borrower’s employment category (e.g., formal, informal, unemployed)\n",
    "\n",
    "+ location_type: Urban or rural residence classification\n",
    "\n",
    "+ default_risk: Binary label indicating whether the borrower defaulted (1) or repaid (0)"
   ]
  },
  {
   "cell_type": "markdown",
   "metadata": {},
   "source": [
    "## Project Approach\n",
    "\n",
    "To tackle the growing challenge of loan stacking in Kenya’s digital lending landscape, we follow a complete data science pipeline—from data generation to model deployment—using deep learning and real-time API integration.\n",
    "\n",
    "1. Synthetic Dataset Creation\n",
    "Given the lack of accessible real-world borrower data due to privacy concerns, we generated a synthetic dataset that mimics realistic mobile loan behaviors. It includes features such as borrowing frequency, repayment history, app usage patterns, and past defaults. \n",
    "\n",
    "2. Neural Network Modeling\n",
    "A deep learning classifier is trained using TensorFlow and Keras to identify high-risk borrowers based on behavioral patterns. \n",
    "\n",
    "3. Model Evaluation & Interpretability\n",
    "The model is evaluated using metrics such as accuracy, precision, recall, and ROC-AUC. We also use SHAP values or similar tools to interpret predictions and ensure transparency in risk assessment.\n",
    "\n",
    "4. API Development & Deployment\n",
    "After validation, the model is deployed as a real-time API using FastAPI. This allows lenders to submit borrower data and receive instant risk predictions, enabling smarter credit decisions within existing platforms.\n",
    "\n",
    "5. System Testing & Validation\n",
    "We simulate real-world scenarios by testing the API with various borrower profiles to evaluate its ability to detect loan stacking behavior effectively."
   ]
  },
  {
   "cell_type": "markdown",
   "metadata": {},
   "source": [
    "## Modules and Libraries"
   ]
  },
  {
   "cell_type": "code",
   "execution_count": 1,
   "metadata": {},
   "outputs": [],
   "source": [
    "import pandas as pd\n",
    "import numpy as np\n",
    "import matplotlib.pyplot as plt\n",
    "%matplotlib inline"
   ]
  },
  {
   "cell_type": "code",
   "execution_count": null,
   "metadata": {},
   "outputs": [],
   "source": []
  }
 ],
 "metadata": {
  "kernelspec": {
   "display_name": "Python 3 (ipykernel)",
   "language": "python",
   "name": "python3"
  },
  "language_info": {
   "codemirror_mode": {
    "name": "ipython",
    "version": 3
   },
   "file_extension": ".py",
   "mimetype": "text/x-python",
   "name": "python",
   "nbconvert_exporter": "python",
   "pygments_lexer": "ipython3",
   "version": "3.8.5"
  }
 },
 "nbformat": 4,
 "nbformat_minor": 4
}
